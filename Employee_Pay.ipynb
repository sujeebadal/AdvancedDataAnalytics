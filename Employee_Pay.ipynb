{
 "cells": [
  {
   "cell_type": "code",
   "execution_count": 2,
   "metadata": {},
   "outputs": [
    {
     "name": "stdout",
     "output_type": "stream",
     "text": [
      "[{'ID': '001', 'Name': 'Mary', 'Pay_Rate': 15.0, 'Hours_Worked': 40}, {'ID': '002', 'Name': 'John', 'Pay_Rate': 22.0, 'Hours_Worked': 25}, {'ID': '003', 'Name': 'Bob', 'Pay_Rate': 35.0, 'Hours_Worked': 4}, {'ID': '004', 'Name': 'Mel', 'Pay_Rate': 43.0, 'Hours_Worked': 62}, {'ID': '005', 'Name': 'Jen', 'Pay_Rate': 17.0, 'Hours Worked': 33}, {'ID': '006', 'Name': 'Sue', 'Pay_Rate': 29.0, 'Hours Worked': 45}, {'ID': '007', 'Name': 'Ken', 'Pay_Rate': 40.0, 'Hours Worked': 36}, {'ID': '008', 'Name': 'Dave', 'Pay_Rate': 20.0, 'Hours Worked': 17}, {'ID': '009', 'Name': 'Beth', 'Pay_Rate': 37.0, 'Hours Worked': 37}, {'ID': '010', 'Name': 'Ray', 'Pay_Rate': 16.5, 'Hours Worked': 80}]\n"
     ]
    }
   ],
   "source": [
    "employees= [{'ID': '001', 'Name':'Mary', 'Pay_Rate':15.00, 'Hours_Worked':40},\n",
    "{'ID': '002', 'Name':'John', 'Pay_Rate':22.00, 'Hours_Worked':25}, \n",
    "{'ID': '003', 'Name':'Bob', 'Pay_Rate':35.00, 'Hours_Worked':4},\n",
    "{'ID': '004', 'Name':'Mel', 'Pay_Rate':43.00, 'Hours_Worked':62},\n",
    "{'ID': '005', 'Name':'Jen', 'Pay_Rate':17.00, 'Hours Worked':33},\n",
    "{'ID': '006', 'Name':'Sue', 'Pay_Rate':29.00, 'Hours Worked':45},\n",
    "{'ID': '007', 'Name':'Ken', 'Pay_Rate':40.00, 'Hours Worked':36},\n",
    "{'ID': '008', 'Name':'Dave', 'Pay_Rate':20.00, 'Hours Worked':17},\n",
    "{'ID': '009', 'Name':'Beth', 'Pay_Rate':37.00, 'Hours Worked':37},\n",
    "{'ID': '010', 'Name':'Ray', 'Pay_Rate':16.50, 'Hours Worked':80}\n",
    "]\n",
    "\n",
    "print (employees)"
   ]
  },
  {
   "cell_type": "code",
   "execution_count": 5,
   "metadata": {},
   "outputs": [
    {
     "ename": "IndentationError",
     "evalue": "expected an indented block (<ipython-input-5-a764de9a6941>, line 2)",
     "output_type": "error",
     "traceback": [
      "\u001b[1;36m  File \u001b[1;32m\"<ipython-input-5-a764de9a6941>\"\u001b[1;36m, line \u001b[1;32m2\u001b[0m\n\u001b[1;33m    if Hours_Worked>40;\u001b[0m\n\u001b[1;37m     ^\u001b[0m\n\u001b[1;31mIndentationError\u001b[0m\u001b[1;31m:\u001b[0m expected an indented block\n"
     ]
    }
   ],
   "source": [
    "for Pay_Rate, Hours_Worked in employees.items():\n",
    "if Hours_Worked>40;\n",
    "overtime_hours= Hours_Worked-40\n",
    "overtime_pay= overtime_hours* ((1.5*Pay_Rate)\n",
    "salary= overtime_pay+ (40*pay_Rate);"
   ]
  },
  {
   "cell_type": "code",
   "execution_count": 8,
   "metadata": {},
   "outputs": [
    {
     "ename": "SyntaxError",
     "evalue": "invalid syntax (<ipython-input-8-990550cef9d6>, line 1)",
     "output_type": "error",
     "traceback": [
      "\u001b[1;36m  File \u001b[1;32m\"<ipython-input-8-990550cef9d6>\"\u001b[1;36m, line \u001b[1;32m1\u001b[0m\n\u001b[1;33m    else Hours_Worked<=40;\u001b[0m\n\u001b[1;37m       ^\u001b[0m\n\u001b[1;31mSyntaxError\u001b[0m\u001b[1;31m:\u001b[0m invalid syntax\n"
     ]
    }
   ],
   "source": [
    "else Hours_Worked<=40;\n",
    "salary= Pay_Rate*Hours_Worked;"
   ]
  },
  {
   "cell_type": "code",
   "execution_count": 7,
   "metadata": {},
   "outputs": [
    {
     "ename": "NameError",
     "evalue": "name 'name' is not defined",
     "output_type": "error",
     "traceback": [
      "\u001b[1;31m---------------------------------------------------------------------------\u001b[0m",
      "\u001b[1;31mNameError\u001b[0m                                 Traceback (most recent call last)",
      "\u001b[1;32m<ipython-input-7-e083f1a62ed1>\u001b[0m in \u001b[0;36m<module>\u001b[1;34m()\u001b[0m\n\u001b[1;32m----> 1\u001b[1;33m \u001b[0mprint\u001b[0m \u001b[1;33m(\u001b[0m\u001b[0mname\u001b[0m\u001b[1;33m,\u001b[0m \u001b[0msalary\u001b[0m\u001b[1;33m)\u001b[0m\u001b[1;33m\u001b[0m\u001b[0m\n\u001b[0m",
      "\u001b[1;31mNameError\u001b[0m: name 'name' is not defined"
     ]
    }
   ],
   "source": [
    "print (name, salary)"
   ]
  },
  {
   "cell_type": "code",
   "execution_count": null,
   "metadata": {
    "collapsed": true
   },
   "outputs": [],
   "source": []
  }
 ],
 "metadata": {
  "kernelspec": {
   "display_name": "Python 3",
   "language": "python",
   "name": "python3"
  },
  "language_info": {
   "codemirror_mode": {
    "name": "ipython",
    "version": 3
   },
   "file_extension": ".py",
   "mimetype": "text/x-python",
   "name": "python",
   "nbconvert_exporter": "python",
   "pygments_lexer": "ipython3",
   "version": "3.6.3"
  }
 },
 "nbformat": 4,
 "nbformat_minor": 2
}
