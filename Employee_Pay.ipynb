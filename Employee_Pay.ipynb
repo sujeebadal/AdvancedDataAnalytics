{
 "cells": [
  {
   "cell_type": "code",
   "execution_count": 2,
   "metadata": {},
   "outputs": [],
   "source": [
    "employees= [{'ID': '001', 'Name':'Mary', 'Pay_Rate':15.00, 'Hours_Worked':40},\n",
    "{'ID': '002', 'Name':'John', 'Pay_Rate':22.00, 'Hours_Worked':25}, \n",
    "{'ID': '003', 'Name':'Bob', 'Pay_Rate':35.00, 'Hours_Worked':4},\n",
    "{'ID': '004', 'Name':'Mel', 'Pay_Rate':43.00, 'Hours_Worked':62},\n",
    "{'ID': '005', 'Name':'Jen', 'Pay_Rate':17.00, 'Hours_Worked':33},\n",
    "{'ID': '006', 'Name':'Sue', 'Pay_Rate':29.00, 'Hours_Worked':45},\n",
    "{'ID': '007', 'Name':'Ken', 'Pay_Rate':40.00, 'Hours_Worked':36},\n",
    "{'ID': '008', 'Name':'Dave', 'Pay_Rate':20.00, 'Hours_Worked':17},\n",
    "{'ID': '009', 'Name':'Beth', 'Pay_Rate':37.00, 'Hours_Worked':37},\n",
    "{'ID': '010', 'Name':'Ray', 'Pay_Rate':16.50, 'Hours_Worked':80}\n",
    "]\n"
   ]
  },
  {
   "cell_type": "code",
   "execution_count": 3,
   "metadata": {},
   "outputs": [
    {
     "name": "stdout",
     "output_type": "stream",
     "text": [
      "Mary: $ 600.0\n",
      "John: $ 550.0\n",
      "Bob: $ 140.0\n",
      "Mel: $ 3139.0\n",
      "Jen: $ 561.0\n",
      "Sue: $ 1377.5\n",
      "Ken: $ 1440.0\n",
      "Dave: $ 340.0\n",
      "Beth: $ 1369.0\n",
      "Ray: $ 1650.0\n"
     ]
    }
   ],
   "source": [
    "for employee in employees:\n",
    "    if employee['Hours_Worked']<=40:\n",
    "        employee['Salary']= employee['Pay_Rate']*employee['Hours_Worked']    \n",
    "    else:\n",
    "        employee['Salary']= (employee['Hours_Worked']-40)* (1.5*employee['Pay_Rate'])+ (40*employee['Pay_Rate'])\n",
    "    print (employee ['Name']+ \": $\", employee ['Salary'])"
   ]
  },
  {
   "cell_type": "code",
   "execution_count": null,
   "metadata": {},
   "outputs": [],
   "source": []
  },
  {
   "cell_type": "code",
   "execution_count": null,
   "metadata": {
    "collapsed": true
   },
   "outputs": [],
   "source": []
  }
 ],
 "metadata": {
  "kernelspec": {
   "display_name": "Python 3",
   "language": "python",
   "name": "python3"
  },
  "language_info": {
   "codemirror_mode": {
    "name": "ipython",
    "version": 3
   },
   "file_extension": ".py",
   "mimetype": "text/x-python",
   "name": "python",
   "nbconvert_exporter": "python",
   "pygments_lexer": "ipython3",
   "version": "3.6.3"
  }
 },
 "nbformat": 4,
 "nbformat_minor": 2
}
